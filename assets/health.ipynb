{
 "cells": [
  {
   "cell_type": "code",
   "execution_count": 240,
   "metadata": {},
   "outputs": [
    {
     "name": "stdout",
     "output_type": "stream",
     "text": [
      "C:\\Users\\kwlei\\Documents\\GitHub\\FINAL PROJECT\\Health\n"
     ]
    }
   ],
   "source": [
    "# Dependencies and Setup\n",
    "import pandas as pd\n",
    "import numpy as np\n",
    "import seaborn as sns\n",
    "import matplotlib.pyplot as plt \n",
    "%matplotlib inline\n",
    "\n",
    "import scipy.cluster.hierarchy as sch \n",
    "\n",
    "import sklearn as sk\n",
    "from sklearn.cluster import KMeans\n",
    "from sklearn.preprocessing import LabelEncoder\n",
    "from sklearn.preprocessing import MinMaxScaler \n",
    "from sklearn.cross_decomposition import CCA \n",
    "from sklearn.manifold import LocallyLinearEmbedding\n",
    "from sklearn.decomposition import PCA\n",
    "from sklearn.decomposition import IncrementalPCA\n",
    "from sklearn.decomposition import KernelPCA\n",
    "from sklearn.decomposition import SparsePCA\n",
    "from sklearn.manifold import MDS\n",
    "from sklearn.manifold import Isomap\n",
    "from sklearn.manifold import TSNE\n",
    "from sklearn.decomposition import TruncatedSVD\n",
    "from sklearn.random_projection import GaussianRandomProjection\n",
    "from sklearn.decomposition import FastICA\n",
    "from sklearn.decomposition import MiniBatchDictionaryLearning\n",
    "from sklearn.random_projection import SparseRandomProjection\n",
    "from sklearn.cluster import AgglomerativeClustering  \n",
    "\n",
    "import tensorflow as tf\n",
    "from tensorflow.examples.tutorials.mnist import input_data\n",
    "\n",
    "# import keras\n",
    "# from keras.models import Sequential, Model\n",
    "# from keras.layers import Dense\n",
    "# from keras.optimizers import Adam\n",
    "\n",
    "# ab nihilo import keras.functions\n",
    "\n",
    "\n",
    "\n",
    "%cd \"C:\\Users\\kwlei\\Documents\\GitHub\\FINAL PROJECT\\Health\"\n"
   ]
  },
  {
   "cell_type": "code",
   "execution_count": 241,
   "metadata": {},
   "outputs": [],
   "source": [
    "load = \"stateHealthZ.csv\" \n",
    "H = pd.read_csv(load, low_memory=False) "
   ]
  },
  {
   "cell_type": "code",
   "execution_count": 242,
   "metadata": {},
   "outputs": [
    {
     "data": {
      "text/html": [
       "<div>\n",
       "<style scoped>\n",
       "    .dataframe tbody tr th:only-of-type {\n",
       "        vertical-align: middle;\n",
       "    }\n",
       "\n",
       "    .dataframe tbody tr th {\n",
       "        vertical-align: top;\n",
       "    }\n",
       "\n",
       "    .dataframe thead th {\n",
       "        text-align: right;\n",
       "    }\n",
       "</style>\n",
       "<table border=\"1\" class=\"dataframe\">\n",
       "  <thead>\n",
       "    <tr style=\"text-align: right;\">\n",
       "      <th></th>\n",
       "      <th>FIPS</th>\n",
       "      <th>ACES</th>\n",
       "      <th>ACESpgJail</th>\n",
       "      <th>AirPollute</th>\n",
       "      <th>AllDeterminants</th>\n",
       "      <th>AllOutcomes</th>\n",
       "      <th>Behaviors</th>\n",
       "      <th>BelowPov</th>\n",
       "      <th>CancerDeaths</th>\n",
       "      <th>CHF</th>\n",
       "      <th>...</th>\n",
       "      <th>subsMisuse</th>\n",
       "      <th>Suicide</th>\n",
       "      <th>underEmp</th>\n",
       "      <th>unEmp</th>\n",
       "      <th>unEmpAnnual</th>\n",
       "      <th>Uninsured</th>\n",
       "      <th>Vegetables</th>\n",
       "      <th>vioCrime</th>\n",
       "      <th>VoteReg</th>\n",
       "      <th>xsETOH</th>\n",
       "    </tr>\n",
       "  </thead>\n",
       "  <tbody>\n",
       "    <tr>\n",
       "      <th>0</th>\n",
       "      <td>24</td>\n",
       "      <td>1.56</td>\n",
       "      <td>0.18</td>\n",
       "      <td>-0.21</td>\n",
       "      <td>-0.437</td>\n",
       "      <td>-0.383</td>\n",
       "      <td>-0.082</td>\n",
       "      <td>1.40</td>\n",
       "      <td>1.19</td>\n",
       "      <td>1.73</td>\n",
       "      <td>...</td>\n",
       "      <td>0.51</td>\n",
       "      <td>0.54</td>\n",
       "      <td>-0.29</td>\n",
       "      <td>0.98</td>\n",
       "      <td>0.00</td>\n",
       "      <td>0.30</td>\n",
       "      <td>-0.76</td>\n",
       "      <td>0.88</td>\n",
       "      <td>0.440</td>\n",
       "      <td>-1.53</td>\n",
       "    </tr>\n",
       "    <tr>\n",
       "      <th>1</th>\n",
       "      <td>3</td>\n",
       "      <td>0.96</td>\n",
       "      <td>0.74</td>\n",
       "      <td>-1.40</td>\n",
       "      <td>-0.027</td>\n",
       "      <td>0.101</td>\n",
       "      <td>-0.087</td>\n",
       "      <td>-1.14</td>\n",
       "      <td>-0.22</td>\n",
       "      <td>-1.00</td>\n",
       "      <td>...</td>\n",
       "      <td>1.90</td>\n",
       "      <td>2.00</td>\n",
       "      <td>2.00</td>\n",
       "      <td>1.20</td>\n",
       "      <td>2.00</td>\n",
       "      <td>1.45</td>\n",
       "      <td>0.00</td>\n",
       "      <td>2.00</td>\n",
       "      <td>0.167</td>\n",
       "      <td>-0.17</td>\n",
       "    </tr>\n",
       "    <tr>\n",
       "      <th>2</th>\n",
       "      <td>18</td>\n",
       "      <td>1.82</td>\n",
       "      <td>1.05</td>\n",
       "      <td>0.91</td>\n",
       "      <td>-0.187</td>\n",
       "      <td>0.039</td>\n",
       "      <td>0.004</td>\n",
       "      <td>0.91</td>\n",
       "      <td>-1.15</td>\n",
       "      <td>0.09</td>\n",
       "      <td>...</td>\n",
       "      <td>2.00</td>\n",
       "      <td>0.93</td>\n",
       "      <td>1.01</td>\n",
       "      <td>0.75</td>\n",
       "      <td>1.01</td>\n",
       "      <td>0.53</td>\n",
       "      <td>1.14</td>\n",
       "      <td>0.60</td>\n",
       "      <td>0.356</td>\n",
       "      <td>-0.35</td>\n",
       "    </tr>\n",
       "    <tr>\n",
       "      <th>3</th>\n",
       "      <td>10</td>\n",
       "      <td>1.76</td>\n",
       "      <td>1.90</td>\n",
       "      <td>-0.91</td>\n",
       "      <td>-0.478</td>\n",
       "      <td>-0.358</td>\n",
       "      <td>-0.202</td>\n",
       "      <td>1.25</td>\n",
       "      <td>1.58</td>\n",
       "      <td>2.00</td>\n",
       "      <td>...</td>\n",
       "      <td>1.35</td>\n",
       "      <td>1.41</td>\n",
       "      <td>0.00</td>\n",
       "      <td>0.15</td>\n",
       "      <td>-0.13</td>\n",
       "      <td>-0.23</td>\n",
       "      <td>1.90</td>\n",
       "      <td>1.03</td>\n",
       "      <td>-1.758</td>\n",
       "      <td>-0.83</td>\n",
       "    </tr>\n",
       "    <tr>\n",
       "      <th>4</th>\n",
       "      <td>46</td>\n",
       "      <td>-1.52</td>\n",
       "      <td>-1.16</td>\n",
       "      <td>2.00</td>\n",
       "      <td>0.272</td>\n",
       "      <td>0.127</td>\n",
       "      <td>0.200</td>\n",
       "      <td>0.46</td>\n",
       "      <td>-1.13</td>\n",
       "      <td>-0.91</td>\n",
       "      <td>...</td>\n",
       "      <td>-0.47</td>\n",
       "      <td>-0.73</td>\n",
       "      <td>0.80</td>\n",
       "      <td>1.20</td>\n",
       "      <td>0.38</td>\n",
       "      <td>-0.53</td>\n",
       "      <td>-0.38</td>\n",
       "      <td>0.42</td>\n",
       "      <td>-1.130</td>\n",
       "      <td>-0.21</td>\n",
       "    </tr>\n",
       "  </tbody>\n",
       "</table>\n",
       "<p>5 rows × 73 columns</p>\n",
       "</div>"
      ],
      "text/plain": [
       "   FIPS  ACES  ACESpgJail  AirPollute  AllDeterminants  AllOutcomes  \\\n",
       "0    24  1.56        0.18       -0.21           -0.437       -0.383   \n",
       "1     3  0.96        0.74       -1.40           -0.027        0.101   \n",
       "2    18  1.82        1.05        0.91           -0.187        0.039   \n",
       "3    10  1.76        1.90       -0.91           -0.478       -0.358   \n",
       "4    46 -1.52       -1.16        2.00            0.272        0.127   \n",
       "\n",
       "   Behaviors  BelowPov  CancerDeaths   CHF  ...  subsMisuse  Suicide  \\\n",
       "0     -0.082      1.40          1.19  1.73  ...        0.51     0.54   \n",
       "1     -0.087     -1.14         -0.22 -1.00  ...        1.90     2.00   \n",
       "2      0.004      0.91         -1.15  0.09  ...        2.00     0.93   \n",
       "3     -0.202      1.25          1.58  2.00  ...        1.35     1.41   \n",
       "4      0.200      0.46         -1.13 -0.91  ...       -0.47    -0.73   \n",
       "\n",
       "   underEmp  unEmp  unEmpAnnual  Uninsured  Vegetables  vioCrime  VoteReg  \\\n",
       "0     -0.29   0.98         0.00       0.30       -0.76      0.88    0.440   \n",
       "1      2.00   1.20         2.00       1.45        0.00      2.00    0.167   \n",
       "2      1.01   0.75         1.01       0.53        1.14      0.60    0.356   \n",
       "3      0.00   0.15        -0.13      -0.23        1.90      1.03   -1.758   \n",
       "4      0.80   1.20         0.38      -0.53       -0.38      0.42   -1.130   \n",
       "\n",
       "   xsETOH  \n",
       "0   -1.53  \n",
       "1   -0.17  \n",
       "2   -0.35  \n",
       "3   -0.83  \n",
       "4   -0.21  \n",
       "\n",
       "[5 rows x 73 columns]"
      ]
     },
     "execution_count": 242,
     "metadata": {},
     "output_type": "execute_result"
    }
   ],
   "source": [
    "H.head()"
   ]
  },
  {
   "cell_type": "code",
   "execution_count": 243,
   "metadata": {},
   "outputs": [
    {
     "data": {
      "text/html": [
       "<div>\n",
       "<style scoped>\n",
       "    .dataframe tbody tr th:only-of-type {\n",
       "        vertical-align: middle;\n",
       "    }\n",
       "\n",
       "    .dataframe tbody tr th {\n",
       "        vertical-align: top;\n",
       "    }\n",
       "\n",
       "    .dataframe thead th {\n",
       "        text-align: right;\n",
       "    }\n",
       "</style>\n",
       "<table border=\"1\" class=\"dataframe\">\n",
       "  <thead>\n",
       "    <tr style=\"text-align: right;\">\n",
       "      <th></th>\n",
       "      <th>FIPS</th>\n",
       "      <th>ACES</th>\n",
       "      <th>ACESpgJail</th>\n",
       "      <th>AirPollute</th>\n",
       "      <th>AllDeterminants</th>\n",
       "      <th>AllOutcomes</th>\n",
       "      <th>Behaviors</th>\n",
       "      <th>BelowPov</th>\n",
       "      <th>CancerDeaths</th>\n",
       "      <th>CHF</th>\n",
       "      <th>...</th>\n",
       "      <th>subsMisuse</th>\n",
       "      <th>Suicide</th>\n",
       "      <th>underEmp</th>\n",
       "      <th>unEmp</th>\n",
       "      <th>unEmpAnnual</th>\n",
       "      <th>Uninsured</th>\n",
       "      <th>Vegetables</th>\n",
       "      <th>vioCrime</th>\n",
       "      <th>VoteReg</th>\n",
       "      <th>xsETOH</th>\n",
       "    </tr>\n",
       "  </thead>\n",
       "  <tbody>\n",
       "    <tr>\n",
       "      <th>count</th>\n",
       "      <td>50.00000</td>\n",
       "      <td>50.000000</td>\n",
       "      <td>50.000000</td>\n",
       "      <td>50.000000</td>\n",
       "      <td>50.000000</td>\n",
       "      <td>50.00000</td>\n",
       "      <td>50.000000</td>\n",
       "      <td>50.000000</td>\n",
       "      <td>50.000000</td>\n",
       "      <td>50.0000</td>\n",
       "      <td>...</td>\n",
       "      <td>50.000000</td>\n",
       "      <td>50.000000</td>\n",
       "      <td>50.000000</td>\n",
       "      <td>50.000000</td>\n",
       "      <td>50.000000</td>\n",
       "      <td>50.000000</td>\n",
       "      <td>50.000000</td>\n",
       "      <td>50.000000</td>\n",
       "      <td>50.000000</td>\n",
       "      <td>50.00000</td>\n",
       "    </tr>\n",
       "    <tr>\n",
       "      <th>mean</th>\n",
       "      <td>25.50000</td>\n",
       "      <td>0.301400</td>\n",
       "      <td>0.151200</td>\n",
       "      <td>-0.694200</td>\n",
       "      <td>0.046740</td>\n",
       "      <td>-0.02368</td>\n",
       "      <td>-0.017580</td>\n",
       "      <td>-0.014200</td>\n",
       "      <td>0.156800</td>\n",
       "      <td>0.1678</td>\n",
       "      <td>...</td>\n",
       "      <td>0.380200</td>\n",
       "      <td>0.487600</td>\n",
       "      <td>-0.191400</td>\n",
       "      <td>0.012600</td>\n",
       "      <td>-0.168600</td>\n",
       "      <td>-0.215000</td>\n",
       "      <td>0.135200</td>\n",
       "      <td>-0.138800</td>\n",
       "      <td>0.210060</td>\n",
       "      <td>-0.04700</td>\n",
       "    </tr>\n",
       "    <tr>\n",
       "      <th>std</th>\n",
       "      <td>14.57738</td>\n",
       "      <td>0.994587</td>\n",
       "      <td>0.982362</td>\n",
       "      <td>0.834853</td>\n",
       "      <td>0.352413</td>\n",
       "      <td>0.17786</td>\n",
       "      <td>0.127628</td>\n",
       "      <td>0.967939</td>\n",
       "      <td>0.969131</td>\n",
       "      <td>0.9016</td>\n",
       "      <td>...</td>\n",
       "      <td>0.947963</td>\n",
       "      <td>0.892411</td>\n",
       "      <td>0.928618</td>\n",
       "      <td>0.974101</td>\n",
       "      <td>0.913285</td>\n",
       "      <td>0.951631</td>\n",
       "      <td>0.788122</td>\n",
       "      <td>0.871172</td>\n",
       "      <td>0.944059</td>\n",
       "      <td>0.96482</td>\n",
       "    </tr>\n",
       "    <tr>\n",
       "      <th>min</th>\n",
       "      <td>1.00000</td>\n",
       "      <td>-1.520000</td>\n",
       "      <td>-1.510000</td>\n",
       "      <td>-2.000000</td>\n",
       "      <td>-0.656000</td>\n",
       "      <td>-0.38300</td>\n",
       "      <td>-0.309000</td>\n",
       "      <td>-1.860000</td>\n",
       "      <td>-2.000000</td>\n",
       "      <td>-1.6400</td>\n",
       "      <td>...</td>\n",
       "      <td>-1.860000</td>\n",
       "      <td>-1.270000</td>\n",
       "      <td>-2.000000</td>\n",
       "      <td>-2.000000</td>\n",
       "      <td>-1.770000</td>\n",
       "      <td>-1.980000</td>\n",
       "      <td>-0.760000</td>\n",
       "      <td>-1.700000</td>\n",
       "      <td>-2.000000</td>\n",
       "      <td>-2.00000</td>\n",
       "    </tr>\n",
       "    <tr>\n",
       "      <th>25%</th>\n",
       "      <td>13.25000</td>\n",
       "      <td>-0.562500</td>\n",
       "      <td>-0.560000</td>\n",
       "      <td>-1.242500</td>\n",
       "      <td>-0.241500</td>\n",
       "      <td>-0.12775</td>\n",
       "      <td>-0.092250</td>\n",
       "      <td>-0.790000</td>\n",
       "      <td>-0.450000</td>\n",
       "      <td>-0.4500</td>\n",
       "      <td>...</td>\n",
       "      <td>-0.200000</td>\n",
       "      <td>-0.060000</td>\n",
       "      <td>-0.992500</td>\n",
       "      <td>-0.845000</td>\n",
       "      <td>-0.760000</td>\n",
       "      <td>-1.012500</td>\n",
       "      <td>-0.380000</td>\n",
       "      <td>-0.905000</td>\n",
       "      <td>-0.470750</td>\n",
       "      <td>-0.62000</td>\n",
       "    </tr>\n",
       "    <tr>\n",
       "      <th>50%</th>\n",
       "      <td>25.50000</td>\n",
       "      <td>0.290000</td>\n",
       "      <td>0.180000</td>\n",
       "      <td>-0.700000</td>\n",
       "      <td>0.068000</td>\n",
       "      <td>0.01450</td>\n",
       "      <td>-0.012500</td>\n",
       "      <td>-0.095000</td>\n",
       "      <td>0.065000</td>\n",
       "      <td>0.0450</td>\n",
       "      <td>...</td>\n",
       "      <td>0.380000</td>\n",
       "      <td>0.440000</td>\n",
       "      <td>-0.150000</td>\n",
       "      <td>0.190000</td>\n",
       "      <td>-0.130000</td>\n",
       "      <td>-0.230000</td>\n",
       "      <td>0.000000</td>\n",
       "      <td>-0.230000</td>\n",
       "      <td>0.230000</td>\n",
       "      <td>-0.01500</td>\n",
       "    </tr>\n",
       "    <tr>\n",
       "      <th>75%</th>\n",
       "      <td>37.75000</td>\n",
       "      <td>1.240000</td>\n",
       "      <td>0.885000</td>\n",
       "      <td>-0.210000</td>\n",
       "      <td>0.336500</td>\n",
       "      <td>0.11700</td>\n",
       "      <td>0.057750</td>\n",
       "      <td>0.720000</td>\n",
       "      <td>0.685000</td>\n",
       "      <td>0.7300</td>\n",
       "      <td>...</td>\n",
       "      <td>1.170000</td>\n",
       "      <td>1.060000</td>\n",
       "      <td>0.402500</td>\n",
       "      <td>0.830000</td>\n",
       "      <td>0.380000</td>\n",
       "      <td>0.322500</td>\n",
       "      <td>0.380000</td>\n",
       "      <td>0.427500</td>\n",
       "      <td>1.041000</td>\n",
       "      <td>0.40250</td>\n",
       "    </tr>\n",
       "    <tr>\n",
       "      <th>max</th>\n",
       "      <td>50.00000</td>\n",
       "      <td>2.000000</td>\n",
       "      <td>2.000000</td>\n",
       "      <td>2.000000</td>\n",
       "      <td>0.687000</td>\n",
       "      <td>0.23400</td>\n",
       "      <td>0.288000</td>\n",
       "      <td>2.000000</td>\n",
       "      <td>2.000000</td>\n",
       "      <td>2.0000</td>\n",
       "      <td>...</td>\n",
       "      <td>2.000000</td>\n",
       "      <td>2.000000</td>\n",
       "      <td>2.000000</td>\n",
       "      <td>2.000000</td>\n",
       "      <td>2.000000</td>\n",
       "      <td>2.000000</td>\n",
       "      <td>2.000000</td>\n",
       "      <td>2.000000</td>\n",
       "      <td>2.000000</td>\n",
       "      <td>2.00000</td>\n",
       "    </tr>\n",
       "  </tbody>\n",
       "</table>\n",
       "<p>8 rows × 73 columns</p>\n",
       "</div>"
      ],
      "text/plain": [
       "           FIPS       ACES  ACESpgJail  AirPollute  AllDeterminants  \\\n",
       "count  50.00000  50.000000   50.000000   50.000000        50.000000   \n",
       "mean   25.50000   0.301400    0.151200   -0.694200         0.046740   \n",
       "std    14.57738   0.994587    0.982362    0.834853         0.352413   \n",
       "min     1.00000  -1.520000   -1.510000   -2.000000        -0.656000   \n",
       "25%    13.25000  -0.562500   -0.560000   -1.242500        -0.241500   \n",
       "50%    25.50000   0.290000    0.180000   -0.700000         0.068000   \n",
       "75%    37.75000   1.240000    0.885000   -0.210000         0.336500   \n",
       "max    50.00000   2.000000    2.000000    2.000000         0.687000   \n",
       "\n",
       "       AllOutcomes  Behaviors   BelowPov  CancerDeaths      CHF  ...  \\\n",
       "count     50.00000  50.000000  50.000000     50.000000  50.0000  ...   \n",
       "mean      -0.02368  -0.017580  -0.014200      0.156800   0.1678  ...   \n",
       "std        0.17786   0.127628   0.967939      0.969131   0.9016  ...   \n",
       "min       -0.38300  -0.309000  -1.860000     -2.000000  -1.6400  ...   \n",
       "25%       -0.12775  -0.092250  -0.790000     -0.450000  -0.4500  ...   \n",
       "50%        0.01450  -0.012500  -0.095000      0.065000   0.0450  ...   \n",
       "75%        0.11700   0.057750   0.720000      0.685000   0.7300  ...   \n",
       "max        0.23400   0.288000   2.000000      2.000000   2.0000  ...   \n",
       "\n",
       "       subsMisuse    Suicide   underEmp      unEmp  unEmpAnnual  Uninsured  \\\n",
       "count   50.000000  50.000000  50.000000  50.000000    50.000000  50.000000   \n",
       "mean     0.380200   0.487600  -0.191400   0.012600    -0.168600  -0.215000   \n",
       "std      0.947963   0.892411   0.928618   0.974101     0.913285   0.951631   \n",
       "min     -1.860000  -1.270000  -2.000000  -2.000000    -1.770000  -1.980000   \n",
       "25%     -0.200000  -0.060000  -0.992500  -0.845000    -0.760000  -1.012500   \n",
       "50%      0.380000   0.440000  -0.150000   0.190000    -0.130000  -0.230000   \n",
       "75%      1.170000   1.060000   0.402500   0.830000     0.380000   0.322500   \n",
       "max      2.000000   2.000000   2.000000   2.000000     2.000000   2.000000   \n",
       "\n",
       "       Vegetables   vioCrime    VoteReg    xsETOH  \n",
       "count   50.000000  50.000000  50.000000  50.00000  \n",
       "mean     0.135200  -0.138800   0.210060  -0.04700  \n",
       "std      0.788122   0.871172   0.944059   0.96482  \n",
       "min     -0.760000  -1.700000  -2.000000  -2.00000  \n",
       "25%     -0.380000  -0.905000  -0.470750  -0.62000  \n",
       "50%      0.000000  -0.230000   0.230000  -0.01500  \n",
       "75%      0.380000   0.427500   1.041000   0.40250  \n",
       "max      2.000000   2.000000   2.000000   2.00000  \n",
       "\n",
       "[8 rows x 73 columns]"
      ]
     },
     "execution_count": 243,
     "metadata": {},
     "output_type": "execute_result"
    }
   ],
   "source": [
    "H.describe()"
   ]
  },
  {
   "cell_type": "code",
   "execution_count": 244,
   "metadata": {},
   "outputs": [],
   "source": [
    "load = \"JailGuns.csv\" \n",
    "V = pd.read_csv(load, low_memory=False) "
   ]
  },
  {
   "cell_type": "code",
   "execution_count": 247,
   "metadata": {},
   "outputs": [],
   "source": [
    "VH = pd.merge(H, V, how=\"left\", on=[\"FIPS\", \"FIPS\"])"
   ]
  },
  {
   "cell_type": "code",
   "execution_count": 248,
   "metadata": {},
   "outputs": [
    {
     "data": {
      "text/html": [
       "<div>\n",
       "<style scoped>\n",
       "    .dataframe tbody tr th:only-of-type {\n",
       "        vertical-align: middle;\n",
       "    }\n",
       "\n",
       "    .dataframe tbody tr th {\n",
       "        vertical-align: top;\n",
       "    }\n",
       "\n",
       "    .dataframe thead th {\n",
       "        text-align: right;\n",
       "    }\n",
       "</style>\n",
       "<table border=\"1\" class=\"dataframe\">\n",
       "  <thead>\n",
       "    <tr style=\"text-align: right;\">\n",
       "      <th></th>\n",
       "      <th>FIPS</th>\n",
       "      <th>ACES</th>\n",
       "      <th>ACESpgJail</th>\n",
       "      <th>AirPollute</th>\n",
       "      <th>AllDeterminants</th>\n",
       "      <th>AllOutcomes</th>\n",
       "      <th>Behaviors</th>\n",
       "      <th>BelowPov</th>\n",
       "      <th>CancerDeaths</th>\n",
       "      <th>CHF</th>\n",
       "      <th>...</th>\n",
       "      <th>Vegetables</th>\n",
       "      <th>vioCrime</th>\n",
       "      <th>VoteReg</th>\n",
       "      <th>xsETOH</th>\n",
       "      <th>gunOwnerRate</th>\n",
       "      <th>homicideRate</th>\n",
       "      <th>gunDeathRate</th>\n",
       "      <th>suiRate</th>\n",
       "      <th>gunSuiRate</th>\n",
       "      <th>gunPctSuicide</th>\n",
       "    </tr>\n",
       "  </thead>\n",
       "  <tbody>\n",
       "    <tr>\n",
       "      <th>count</th>\n",
       "      <td>50.00000</td>\n",
       "      <td>50.000000</td>\n",
       "      <td>50.000000</td>\n",
       "      <td>50.000000</td>\n",
       "      <td>50.000000</td>\n",
       "      <td>50.00000</td>\n",
       "      <td>50.000000</td>\n",
       "      <td>50.000000</td>\n",
       "      <td>50.000000</td>\n",
       "      <td>50.0000</td>\n",
       "      <td>...</td>\n",
       "      <td>50.000000</td>\n",
       "      <td>50.000000</td>\n",
       "      <td>50.000000</td>\n",
       "      <td>50.00000</td>\n",
       "      <td>50.000000</td>\n",
       "      <td>50.000000</td>\n",
       "      <td>50.000000</td>\n",
       "      <td>50.000000</td>\n",
       "      <td>50.000000</td>\n",
       "      <td>50.000000</td>\n",
       "    </tr>\n",
       "    <tr>\n",
       "      <th>mean</th>\n",
       "      <td>25.50000</td>\n",
       "      <td>0.301400</td>\n",
       "      <td>0.151200</td>\n",
       "      <td>-0.694200</td>\n",
       "      <td>0.046740</td>\n",
       "      <td>-0.02368</td>\n",
       "      <td>-0.017580</td>\n",
       "      <td>-0.014200</td>\n",
       "      <td>0.156800</td>\n",
       "      <td>0.1678</td>\n",
       "      <td>...</td>\n",
       "      <td>0.135200</td>\n",
       "      <td>-0.138800</td>\n",
       "      <td>0.210060</td>\n",
       "      <td>-0.04700</td>\n",
       "      <td>0.361560</td>\n",
       "      <td>4.768000</td>\n",
       "      <td>11.404000</td>\n",
       "      <td>13.686000</td>\n",
       "      <td>7.880000</td>\n",
       "      <td>0.510400</td>\n",
       "    </tr>\n",
       "    <tr>\n",
       "      <th>std</th>\n",
       "      <td>14.57738</td>\n",
       "      <td>0.994587</td>\n",
       "      <td>0.982362</td>\n",
       "      <td>0.834853</td>\n",
       "      <td>0.352413</td>\n",
       "      <td>0.17786</td>\n",
       "      <td>0.127628</td>\n",
       "      <td>0.967939</td>\n",
       "      <td>0.969131</td>\n",
       "      <td>0.9016</td>\n",
       "      <td>...</td>\n",
       "      <td>0.788122</td>\n",
       "      <td>0.871172</td>\n",
       "      <td>0.944059</td>\n",
       "      <td>0.96482</td>\n",
       "      <td>0.121936</td>\n",
       "      <td>2.364542</td>\n",
       "      <td>4.072003</td>\n",
       "      <td>3.050795</td>\n",
       "      <td>2.553669</td>\n",
       "      <td>0.128189</td>\n",
       "    </tr>\n",
       "    <tr>\n",
       "      <th>min</th>\n",
       "      <td>1.00000</td>\n",
       "      <td>-1.520000</td>\n",
       "      <td>-1.510000</td>\n",
       "      <td>-2.000000</td>\n",
       "      <td>-0.656000</td>\n",
       "      <td>-0.38300</td>\n",
       "      <td>-0.309000</td>\n",
       "      <td>-1.860000</td>\n",
       "      <td>-2.000000</td>\n",
       "      <td>-1.6400</td>\n",
       "      <td>...</td>\n",
       "      <td>-0.760000</td>\n",
       "      <td>-1.700000</td>\n",
       "      <td>-2.000000</td>\n",
       "      <td>-2.00000</td>\n",
       "      <td>0.104000</td>\n",
       "      <td>1.330000</td>\n",
       "      <td>3.200000</td>\n",
       "      <td>7.400000</td>\n",
       "      <td>3.000000</td>\n",
       "      <td>0.130000</td>\n",
       "    </tr>\n",
       "    <tr>\n",
       "      <th>25%</th>\n",
       "      <td>13.25000</td>\n",
       "      <td>-0.562500</td>\n",
       "      <td>-0.560000</td>\n",
       "      <td>-1.242500</td>\n",
       "      <td>-0.241500</td>\n",
       "      <td>-0.12775</td>\n",
       "      <td>-0.092250</td>\n",
       "      <td>-0.790000</td>\n",
       "      <td>-0.450000</td>\n",
       "      <td>-0.4500</td>\n",
       "      <td>...</td>\n",
       "      <td>-0.380000</td>\n",
       "      <td>-0.905000</td>\n",
       "      <td>-0.470750</td>\n",
       "      <td>-0.62000</td>\n",
       "      <td>0.302500</td>\n",
       "      <td>2.512500</td>\n",
       "      <td>9.025000</td>\n",
       "      <td>11.250000</td>\n",
       "      <td>6.125000</td>\n",
       "      <td>0.462500</td>\n",
       "    </tr>\n",
       "    <tr>\n",
       "      <th>50%</th>\n",
       "      <td>25.50000</td>\n",
       "      <td>0.290000</td>\n",
       "      <td>0.180000</td>\n",
       "      <td>-0.700000</td>\n",
       "      <td>0.068000</td>\n",
       "      <td>0.01450</td>\n",
       "      <td>-0.012500</td>\n",
       "      <td>-0.095000</td>\n",
       "      <td>0.065000</td>\n",
       "      <td>0.0450</td>\n",
       "      <td>...</td>\n",
       "      <td>0.000000</td>\n",
       "      <td>-0.230000</td>\n",
       "      <td>0.230000</td>\n",
       "      <td>-0.01500</td>\n",
       "      <td>0.352500</td>\n",
       "      <td>4.760000</td>\n",
       "      <td>11.150000</td>\n",
       "      <td>14.100000</td>\n",
       "      <td>8.200000</td>\n",
       "      <td>0.530000</td>\n",
       "    </tr>\n",
       "    <tr>\n",
       "      <th>75%</th>\n",
       "      <td>37.75000</td>\n",
       "      <td>1.240000</td>\n",
       "      <td>0.885000</td>\n",
       "      <td>-0.210000</td>\n",
       "      <td>0.336500</td>\n",
       "      <td>0.11700</td>\n",
       "      <td>0.057750</td>\n",
       "      <td>0.720000</td>\n",
       "      <td>0.685000</td>\n",
       "      <td>0.7300</td>\n",
       "      <td>...</td>\n",
       "      <td>0.380000</td>\n",
       "      <td>0.427500</td>\n",
       "      <td>1.041000</td>\n",
       "      <td>0.40250</td>\n",
       "      <td>0.442750</td>\n",
       "      <td>6.430000</td>\n",
       "      <td>14.800000</td>\n",
       "      <td>15.500000</td>\n",
       "      <td>9.600000</td>\n",
       "      <td>0.607500</td>\n",
       "    </tr>\n",
       "    <tr>\n",
       "      <th>max</th>\n",
       "      <td>50.00000</td>\n",
       "      <td>2.000000</td>\n",
       "      <td>2.000000</td>\n",
       "      <td>2.000000</td>\n",
       "      <td>0.687000</td>\n",
       "      <td>0.23400</td>\n",
       "      <td>0.288000</td>\n",
       "      <td>2.000000</td>\n",
       "      <td>2.000000</td>\n",
       "      <td>2.0000</td>\n",
       "      <td>...</td>\n",
       "      <td>2.000000</td>\n",
       "      <td>2.000000</td>\n",
       "      <td>2.000000</td>\n",
       "      <td>2.00000</td>\n",
       "      <td>0.613000</td>\n",
       "      <td>12.130000</td>\n",
       "      <td>19.200000</td>\n",
       "      <td>23.400000</td>\n",
       "      <td>15.200000</td>\n",
       "      <td>0.690000</td>\n",
       "    </tr>\n",
       "  </tbody>\n",
       "</table>\n",
       "<p>8 rows × 79 columns</p>\n",
       "</div>"
      ],
      "text/plain": [
       "           FIPS       ACES  ACESpgJail  AirPollute  AllDeterminants  \\\n",
       "count  50.00000  50.000000   50.000000   50.000000        50.000000   \n",
       "mean   25.50000   0.301400    0.151200   -0.694200         0.046740   \n",
       "std    14.57738   0.994587    0.982362    0.834853         0.352413   \n",
       "min     1.00000  -1.520000   -1.510000   -2.000000        -0.656000   \n",
       "25%    13.25000  -0.562500   -0.560000   -1.242500        -0.241500   \n",
       "50%    25.50000   0.290000    0.180000   -0.700000         0.068000   \n",
       "75%    37.75000   1.240000    0.885000   -0.210000         0.336500   \n",
       "max    50.00000   2.000000    2.000000    2.000000         0.687000   \n",
       "\n",
       "       AllOutcomes  Behaviors   BelowPov  CancerDeaths      CHF  ...  \\\n",
       "count     50.00000  50.000000  50.000000     50.000000  50.0000  ...   \n",
       "mean      -0.02368  -0.017580  -0.014200      0.156800   0.1678  ...   \n",
       "std        0.17786   0.127628   0.967939      0.969131   0.9016  ...   \n",
       "min       -0.38300  -0.309000  -1.860000     -2.000000  -1.6400  ...   \n",
       "25%       -0.12775  -0.092250  -0.790000     -0.450000  -0.4500  ...   \n",
       "50%        0.01450  -0.012500  -0.095000      0.065000   0.0450  ...   \n",
       "75%        0.11700   0.057750   0.720000      0.685000   0.7300  ...   \n",
       "max        0.23400   0.288000   2.000000      2.000000   2.0000  ...   \n",
       "\n",
       "       Vegetables   vioCrime    VoteReg    xsETOH  gunOwnerRate  homicideRate  \\\n",
       "count   50.000000  50.000000  50.000000  50.00000     50.000000     50.000000   \n",
       "mean     0.135200  -0.138800   0.210060  -0.04700      0.361560      4.768000   \n",
       "std      0.788122   0.871172   0.944059   0.96482      0.121936      2.364542   \n",
       "min     -0.760000  -1.700000  -2.000000  -2.00000      0.104000      1.330000   \n",
       "25%     -0.380000  -0.905000  -0.470750  -0.62000      0.302500      2.512500   \n",
       "50%      0.000000  -0.230000   0.230000  -0.01500      0.352500      4.760000   \n",
       "75%      0.380000   0.427500   1.041000   0.40250      0.442750      6.430000   \n",
       "max      2.000000   2.000000   2.000000   2.00000      0.613000     12.130000   \n",
       "\n",
       "       gunDeathRate    suiRate  gunSuiRate  gunPctSuicide  \n",
       "count     50.000000  50.000000   50.000000      50.000000  \n",
       "mean      11.404000  13.686000    7.880000       0.510400  \n",
       "std        4.072003   3.050795    2.553669       0.128189  \n",
       "min        3.200000   7.400000    3.000000       0.130000  \n",
       "25%        9.025000  11.250000    6.125000       0.462500  \n",
       "50%       11.150000  14.100000    8.200000       0.530000  \n",
       "75%       14.800000  15.500000    9.600000       0.607500  \n",
       "max       19.200000  23.400000   15.200000       0.690000  \n",
       "\n",
       "[8 rows x 79 columns]"
      ]
     },
     "execution_count": 248,
     "metadata": {},
     "output_type": "execute_result"
    }
   ],
   "source": [
    "VH.describe()"
   ]
  },
  {
   "cell_type": "code",
   "execution_count": 230,
   "metadata": {},
   "outputs": [
    {
     "data": {
      "text/html": [
       "<div>\n",
       "<style scoped>\n",
       "    .dataframe tbody tr th:only-of-type {\n",
       "        vertical-align: middle;\n",
       "    }\n",
       "\n",
       "    .dataframe tbody tr th {\n",
       "        vertical-align: top;\n",
       "    }\n",
       "\n",
       "    .dataframe thead th {\n",
       "        text-align: right;\n",
       "    }\n",
       "</style>\n",
       "<table border=\"1\" class=\"dataframe\">\n",
       "  <thead>\n",
       "    <tr style=\"text-align: right;\">\n",
       "      <th></th>\n",
       "      <th>FIPS</th>\n",
       "      <th>AirPollute</th>\n",
       "      <th>AllDeterminants</th>\n",
       "      <th>AllOutcomes</th>\n",
       "      <th>Behaviors</th>\n",
       "      <th>BelowPov</th>\n",
       "      <th>CancerDeaths</th>\n",
       "      <th>CHF</th>\n",
       "      <th>ChildPov</th>\n",
       "      <th>chImunize</th>\n",
       "      <th>...</th>\n",
       "      <th>Vegetables</th>\n",
       "      <th>vioCrime</th>\n",
       "      <th>VoteReg</th>\n",
       "      <th>xsETOH</th>\n",
       "      <th>gunOwnerRate</th>\n",
       "      <th>homicideRate</th>\n",
       "      <th>gunDeathRate</th>\n",
       "      <th>suiRate</th>\n",
       "      <th>gunSuiRate</th>\n",
       "      <th>gunPctSuicide</th>\n",
       "    </tr>\n",
       "  </thead>\n",
       "  <tbody>\n",
       "    <tr>\n",
       "      <th>count</th>\n",
       "      <td>50.00000</td>\n",
       "      <td>50.000000</td>\n",
       "      <td>50.000000</td>\n",
       "      <td>50.00000</td>\n",
       "      <td>50.000000</td>\n",
       "      <td>50.000000</td>\n",
       "      <td>50.000000</td>\n",
       "      <td>50.0000</td>\n",
       "      <td>50.000000</td>\n",
       "      <td>50.000000</td>\n",
       "      <td>...</td>\n",
       "      <td>50.000000</td>\n",
       "      <td>50.000000</td>\n",
       "      <td>50.000000</td>\n",
       "      <td>50.00000</td>\n",
       "      <td>50.000000</td>\n",
       "      <td>50.000000</td>\n",
       "      <td>50.000000</td>\n",
       "      <td>50.000000</td>\n",
       "      <td>50.000000</td>\n",
       "      <td>50.000000</td>\n",
       "    </tr>\n",
       "    <tr>\n",
       "      <th>mean</th>\n",
       "      <td>25.50000</td>\n",
       "      <td>-0.694200</td>\n",
       "      <td>0.046740</td>\n",
       "      <td>-0.02368</td>\n",
       "      <td>-0.017580</td>\n",
       "      <td>-0.014200</td>\n",
       "      <td>0.156800</td>\n",
       "      <td>0.1678</td>\n",
       "      <td>-0.178400</td>\n",
       "      <td>0.243800</td>\n",
       "      <td>...</td>\n",
       "      <td>0.135200</td>\n",
       "      <td>-0.138800</td>\n",
       "      <td>0.210060</td>\n",
       "      <td>-0.04700</td>\n",
       "      <td>0.361560</td>\n",
       "      <td>4.768000</td>\n",
       "      <td>11.404000</td>\n",
       "      <td>13.686000</td>\n",
       "      <td>7.880000</td>\n",
       "      <td>0.510400</td>\n",
       "    </tr>\n",
       "    <tr>\n",
       "      <th>std</th>\n",
       "      <td>14.57738</td>\n",
       "      <td>0.834853</td>\n",
       "      <td>0.352413</td>\n",
       "      <td>0.17786</td>\n",
       "      <td>0.127628</td>\n",
       "      <td>0.967939</td>\n",
       "      <td>0.969131</td>\n",
       "      <td>0.9016</td>\n",
       "      <td>0.996109</td>\n",
       "      <td>0.946139</td>\n",
       "      <td>...</td>\n",
       "      <td>0.788122</td>\n",
       "      <td>0.871172</td>\n",
       "      <td>0.944059</td>\n",
       "      <td>0.96482</td>\n",
       "      <td>0.121936</td>\n",
       "      <td>2.364542</td>\n",
       "      <td>4.072003</td>\n",
       "      <td>3.050795</td>\n",
       "      <td>2.553669</td>\n",
       "      <td>0.128189</td>\n",
       "    </tr>\n",
       "    <tr>\n",
       "      <th>min</th>\n",
       "      <td>1.00000</td>\n",
       "      <td>-2.000000</td>\n",
       "      <td>-0.656000</td>\n",
       "      <td>-0.38300</td>\n",
       "      <td>-0.309000</td>\n",
       "      <td>-1.860000</td>\n",
       "      <td>-2.000000</td>\n",
       "      <td>-1.6400</td>\n",
       "      <td>-1.810000</td>\n",
       "      <td>-1.180000</td>\n",
       "      <td>...</td>\n",
       "      <td>-0.760000</td>\n",
       "      <td>-1.700000</td>\n",
       "      <td>-2.000000</td>\n",
       "      <td>-2.00000</td>\n",
       "      <td>0.104000</td>\n",
       "      <td>1.330000</td>\n",
       "      <td>3.200000</td>\n",
       "      <td>7.400000</td>\n",
       "      <td>3.000000</td>\n",
       "      <td>0.130000</td>\n",
       "    </tr>\n",
       "    <tr>\n",
       "      <th>25%</th>\n",
       "      <td>13.25000</td>\n",
       "      <td>-1.242500</td>\n",
       "      <td>-0.241500</td>\n",
       "      <td>-0.12775</td>\n",
       "      <td>-0.092250</td>\n",
       "      <td>-0.790000</td>\n",
       "      <td>-0.450000</td>\n",
       "      <td>-0.4500</td>\n",
       "      <td>-0.920000</td>\n",
       "      <td>-0.390000</td>\n",
       "      <td>...</td>\n",
       "      <td>-0.380000</td>\n",
       "      <td>-0.905000</td>\n",
       "      <td>-0.470750</td>\n",
       "      <td>-0.62000</td>\n",
       "      <td>0.302500</td>\n",
       "      <td>2.512500</td>\n",
       "      <td>9.025000</td>\n",
       "      <td>11.250000</td>\n",
       "      <td>6.125000</td>\n",
       "      <td>0.462500</td>\n",
       "    </tr>\n",
       "    <tr>\n",
       "      <th>50%</th>\n",
       "      <td>25.50000</td>\n",
       "      <td>-0.700000</td>\n",
       "      <td>0.068000</td>\n",
       "      <td>0.01450</td>\n",
       "      <td>-0.012500</td>\n",
       "      <td>-0.095000</td>\n",
       "      <td>0.065000</td>\n",
       "      <td>0.0450</td>\n",
       "      <td>-0.300000</td>\n",
       "      <td>0.060000</td>\n",
       "      <td>...</td>\n",
       "      <td>0.000000</td>\n",
       "      <td>-0.230000</td>\n",
       "      <td>0.230000</td>\n",
       "      <td>-0.01500</td>\n",
       "      <td>0.352500</td>\n",
       "      <td>4.760000</td>\n",
       "      <td>11.150000</td>\n",
       "      <td>14.100000</td>\n",
       "      <td>8.200000</td>\n",
       "      <td>0.530000</td>\n",
       "    </tr>\n",
       "    <tr>\n",
       "      <th>75%</th>\n",
       "      <td>37.75000</td>\n",
       "      <td>-0.210000</td>\n",
       "      <td>0.336500</td>\n",
       "      <td>0.11700</td>\n",
       "      <td>0.057750</td>\n",
       "      <td>0.720000</td>\n",
       "      <td>0.685000</td>\n",
       "      <td>0.7300</td>\n",
       "      <td>0.465000</td>\n",
       "      <td>1.042500</td>\n",
       "      <td>...</td>\n",
       "      <td>0.380000</td>\n",
       "      <td>0.427500</td>\n",
       "      <td>1.041000</td>\n",
       "      <td>0.40250</td>\n",
       "      <td>0.442750</td>\n",
       "      <td>6.430000</td>\n",
       "      <td>14.800000</td>\n",
       "      <td>15.500000</td>\n",
       "      <td>9.600000</td>\n",
       "      <td>0.607500</td>\n",
       "    </tr>\n",
       "    <tr>\n",
       "      <th>max</th>\n",
       "      <td>50.00000</td>\n",
       "      <td>2.000000</td>\n",
       "      <td>0.687000</td>\n",
       "      <td>0.23400</td>\n",
       "      <td>0.288000</td>\n",
       "      <td>2.000000</td>\n",
       "      <td>2.000000</td>\n",
       "      <td>2.0000</td>\n",
       "      <td>2.000000</td>\n",
       "      <td>2.000000</td>\n",
       "      <td>...</td>\n",
       "      <td>2.000000</td>\n",
       "      <td>2.000000</td>\n",
       "      <td>2.000000</td>\n",
       "      <td>2.00000</td>\n",
       "      <td>0.613000</td>\n",
       "      <td>12.130000</td>\n",
       "      <td>19.200000</td>\n",
       "      <td>23.400000</td>\n",
       "      <td>15.200000</td>\n",
       "      <td>0.690000</td>\n",
       "    </tr>\n",
       "  </tbody>\n",
       "</table>\n",
       "<p>8 rows × 77 columns</p>\n",
       "</div>"
      ],
      "text/plain": [
       "           FIPS  AirPollute  AllDeterminants  AllOutcomes  Behaviors  \\\n",
       "count  50.00000   50.000000        50.000000     50.00000  50.000000   \n",
       "mean   25.50000   -0.694200         0.046740     -0.02368  -0.017580   \n",
       "std    14.57738    0.834853         0.352413      0.17786   0.127628   \n",
       "min     1.00000   -2.000000        -0.656000     -0.38300  -0.309000   \n",
       "25%    13.25000   -1.242500        -0.241500     -0.12775  -0.092250   \n",
       "50%    25.50000   -0.700000         0.068000      0.01450  -0.012500   \n",
       "75%    37.75000   -0.210000         0.336500      0.11700   0.057750   \n",
       "max    50.00000    2.000000         0.687000      0.23400   0.288000   \n",
       "\n",
       "        BelowPov  CancerDeaths      CHF   ChildPov  chImunize  ...  \\\n",
       "count  50.000000     50.000000  50.0000  50.000000  50.000000  ...   \n",
       "mean   -0.014200      0.156800   0.1678  -0.178400   0.243800  ...   \n",
       "std     0.967939      0.969131   0.9016   0.996109   0.946139  ...   \n",
       "min    -1.860000     -2.000000  -1.6400  -1.810000  -1.180000  ...   \n",
       "25%    -0.790000     -0.450000  -0.4500  -0.920000  -0.390000  ...   \n",
       "50%    -0.095000      0.065000   0.0450  -0.300000   0.060000  ...   \n",
       "75%     0.720000      0.685000   0.7300   0.465000   1.042500  ...   \n",
       "max     2.000000      2.000000   2.0000   2.000000   2.000000  ...   \n",
       "\n",
       "       Vegetables   vioCrime    VoteReg    xsETOH  gunOwnerRate  homicideRate  \\\n",
       "count   50.000000  50.000000  50.000000  50.00000     50.000000     50.000000   \n",
       "mean     0.135200  -0.138800   0.210060  -0.04700      0.361560      4.768000   \n",
       "std      0.788122   0.871172   0.944059   0.96482      0.121936      2.364542   \n",
       "min     -0.760000  -1.700000  -2.000000  -2.00000      0.104000      1.330000   \n",
       "25%     -0.380000  -0.905000  -0.470750  -0.62000      0.302500      2.512500   \n",
       "50%      0.000000  -0.230000   0.230000  -0.01500      0.352500      4.760000   \n",
       "75%      0.380000   0.427500   1.041000   0.40250      0.442750      6.430000   \n",
       "max      2.000000   2.000000   2.000000   2.00000      0.613000     12.130000   \n",
       "\n",
       "       gunDeathRate    suiRate  gunSuiRate  gunPctSuicide  \n",
       "count     50.000000  50.000000   50.000000      50.000000  \n",
       "mean      11.404000  13.686000    7.880000       0.510400  \n",
       "std        4.072003   3.050795    2.553669       0.128189  \n",
       "min        3.200000   7.400000    3.000000       0.130000  \n",
       "25%        9.025000  11.250000    6.125000       0.462500  \n",
       "50%       11.150000  14.100000    8.200000       0.530000  \n",
       "75%       14.800000  15.500000    9.600000       0.607500  \n",
       "max       19.200000  23.400000   15.200000       0.690000  \n",
       "\n",
       "[8 rows x 77 columns]"
      ]
     },
     "execution_count": 230,
     "metadata": {},
     "output_type": "execute_result"
    }
   ],
   "source": [
    "VH.describe()"
   ]
  },
  {
   "cell_type": "code",
   "execution_count": null,
   "metadata": {},
   "outputs": [],
   "source": [
    "# averages_df = pd.merge(data1, date2.mean(), how=\"left\", on=[\"key_value\", \"key_value\"]) "
   ]
  },
  {
   "cell_type": "code",
   "execution_count": 11,
   "metadata": {
    "scrolled": true
   },
   "outputs": [],
   "source": [
    "# subs = H.sample(n=25) \n",
    "# #subset = ###subset.#XXXX#iloc#[XXXXX]\n",
    "# print(subs.head())\n",
    "\n",
    "#  !!!! only do this once.  Once data is cleaned, don't use iloc \n",
    "\n",
    "# also, why bother training?"
   ]
  },
  {
   "cell_type": "code",
   "execution_count": 12,
   "metadata": {
    "scrolled": true
   },
   "outputs": [],
   "source": [
    "# subs.info()"
   ]
  },
  {
   "cell_type": "code",
   "execution_count": 190,
   "metadata": {},
   "outputs": [
    {
     "name": "stdout",
     "output_type": "stream",
     "text": [
      "[0 0 0 0 0 0 0 0 0 0 0 0 0 0 0 0 0 0 0 0 0 0 0 0 0]\n",
      "1123.07618864\n"
     ]
    }
   ],
   "source": [
    "# from sklearn.cluster import KMeans \n",
    "clusters = 1\n",
    "kmeans = KMeans(n_clusters = clusters) \n",
    "kmeans.fit(subs) \n",
    "print(kmeans.labels_)\n",
    "print(kmeans.inertia_) "
   ]
  },
  {
   "cell_type": "code",
   "execution_count": 184,
   "metadata": {},
   "outputs": [
    {
     "name": "stdout",
     "output_type": "stream",
     "text": [
      "[1 0 0 0 0 1 0 1 1 1 0 0 1 0 0 1 1 0 1 1 1 0 1 0 1]\n",
      "728.7948873333333\n"
     ]
    }
   ],
   "source": [
    "# from sklearn.cluster import KMeans \n",
    "clusters = 2\n",
    "kmeans = KMeans(n_clusters = clusters) \n",
    "kmeans.fit(subs) \n",
    "print(kmeans.labels_)\n",
    "print(kmeans.inertia_) \n"
   ]
  },
  {
   "cell_type": "code",
   "execution_count": 185,
   "metadata": {},
   "outputs": [
    {
     "name": "stdout",
     "output_type": "stream",
     "text": [
      "[0 1 1 1 1 0 1 2 2 1 1 1 0 1 1 2 2 1 2 2 0 1 0 1 0]\n",
      "621.2628548333333\n"
     ]
    }
   ],
   "source": [
    "# from sklearn.cluster import KMeans \n",
    "clusters = 3\n",
    "kmeans = KMeans(n_clusters = clusters) \n",
    "kmeans.fit(subs) \n",
    "print(kmeans.labels_)\n",
    "print(kmeans.inertia_) \n"
   ]
  },
  {
   "cell_type": "code",
   "execution_count": 186,
   "metadata": {},
   "outputs": [
    {
     "name": "stdout",
     "output_type": "stream",
     "text": [
      "[3 2 1 2 2 3 1 0 0 2 1 2 3 2 1 0 0 2 0 3 3 1 3 2 3]\n",
      "509.77510743571435\n"
     ]
    }
   ],
   "source": [
    "# from sklearn.cluster import KMeans \n",
    "clusters = 4\n",
    "kmeans = KMeans(n_clusters = clusters) \n",
    "kmeans.fit(subs) \n",
    "print(kmeans.labels_)\n",
    "print(kmeans.inertia_) \n"
   ]
  },
  {
   "cell_type": "code",
   "execution_count": 187,
   "metadata": {},
   "outputs": [
    {
     "name": "stdout",
     "output_type": "stream",
     "text": [
      "[2 1 4 1 1 2 4 0 0 1 4 1 2 1 4 0 0 1 0 3 2 4 0 1 3]\n",
      "447.0398034666667\n"
     ]
    }
   ],
   "source": [
    "# from sklearn.cluster import KMeans \n",
    "clusters = 5\n",
    "kmeans = KMeans(n_clusters = clusters) \n",
    "kmeans.fit(subs) \n",
    "print(kmeans.labels_)\n",
    "print(kmeans.inertia_) \n"
   ]
  },
  {
   "cell_type": "code",
   "execution_count": 188,
   "metadata": {},
   "outputs": [
    {
     "name": "stdout",
     "output_type": "stream",
     "text": [
      "[1 0 4 0 5 1 3 2 2 0 4 5 1 0 4 2 2 0 2 2 1 4 1 0 2]\n",
      "419.55214892857146\n"
     ]
    }
   ],
   "source": [
    "# from sklearn.cluster import KMeans \n",
    "clusters = 6\n",
    "kmeans = KMeans(n_clusters = clusters) \n",
    "kmeans.fit(subs) \n",
    "print(kmeans.labels_)\n",
    "print(kmeans.inertia_) "
   ]
  },
  {
   "cell_type": "code",
   "execution_count": 189,
   "metadata": {},
   "outputs": [
    {
     "name": "stdout",
     "output_type": "stream",
     "text": [
      "[2 4 5 4 0 2 5 1 1 4 3 0 2 4 5 1 1 4 1 6 2 5 1 4 6]\n",
      "355.21271916666666\n"
     ]
    }
   ],
   "source": [
    "# from sklearn.cluster import KMeans \n",
    "clusters = 7\n",
    "kmeans = KMeans(n_clusters = clusters) \n",
    "kmeans.fit(subs) \n",
    "print(kmeans.labels_)\n",
    "print(kmeans.inertia_) "
   ]
  },
  {
   "cell_type": "code",
   "execution_count": 191,
   "metadata": {},
   "outputs": [
    {
     "name": "stdout",
     "output_type": "stream",
     "text": [
      "[6 7 2 7 3 6 2 1 0 7 2 3 6 0 2 1 5 7 5 4 6 2 1 7 4]\n",
      "331.25930171666664\n"
     ]
    }
   ],
   "source": [
    "# from sklearn.cluster import KMeans \n",
    "clusters = 8\n",
    "kmeans = KMeans(n_clusters = clusters) \n",
    "kmeans.fit(subs) \n",
    "print(kmeans.labels_)\n",
    "print(kmeans.inertia_) "
   ]
  },
  {
   "cell_type": "code",
   "execution_count": 192,
   "metadata": {},
   "outputs": [
    {
     "name": "stdout",
     "output_type": "stream",
     "text": [
      "[6 8 1 8 7 0 1 3 2 5 8 7 0 5 1 3 2 8 2 4 0 1 6 5 4]\n",
      "301.3282065833333\n"
     ]
    }
   ],
   "source": [
    "# from sklearn.cluster import KMeans \n",
    "clusters = 9\n",
    "kmeans = KMeans(n_clusters = clusters) \n",
    "kmeans.fit(subs) \n",
    "print(kmeans.labels_)\n",
    "print(kmeans.inertia_) "
   ]
  },
  {
   "cell_type": "code",
   "execution_count": 193,
   "metadata": {},
   "outputs": [
    {
     "name": "stdout",
     "output_type": "stream",
     "text": [
      "[9 6 3 6 4 9 3 1 8 0 6 4 2 0 3 0 8 6 7 5 2 3 9 0 5]\n",
      "272.88320541666667\n"
     ]
    }
   ],
   "source": [
    "# from sklearn.cluster import KMeans \n",
    "clusters = 10\n",
    "kmeans = KMeans(n_clusters = clusters) \n",
    "kmeans.fit(subs) \n",
    "print(kmeans.labels_)\n",
    "print(kmeans.inertia_) "
   ]
  },
  {
   "cell_type": "code",
   "execution_count": 194,
   "metadata": {},
   "outputs": [
    {
     "name": "stdout",
     "output_type": "stream",
     "text": [
      "[ 1  2  6  2  7  1  4 10  9  2  0  7  1  2  6  3  9  2  5  9  1  6  3  2\n",
      "  8]\n",
      "243.86882091666666\n"
     ]
    }
   ],
   "source": [
    "# from sklearn.cluster import KMeans \n",
    "clusters = 11\n",
    "kmeans = KMeans(n_clusters = clusters) \n",
    "kmeans.fit(subs) \n",
    "print(kmeans.labels_)\n",
    "print(kmeans.inertia_) "
   ]
  },
  {
   "cell_type": "code",
   "execution_count": 195,
   "metadata": {},
   "outputs": [
    {
     "name": "stdout",
     "output_type": "stream",
     "text": [
      "[ 9  1  4  1  5  9  8  6  2  7 10  5  3  7  4  7  2  1  2  0  9  4  9  7\n",
      " 11]\n",
      "218.0934125\n"
     ]
    }
   ],
   "source": [
    "# from sklearn.cluster import KMeans \n",
    "clusters = 12\n",
    "kmeans = KMeans(n_clusters = clusters) \n",
    "kmeans.fit(subs) \n",
    "print(kmeans.labels_)\n",
    "print(kmeans.inertia_) "
   ]
  },
  {
   "cell_type": "code",
   "execution_count": 196,
   "metadata": {},
   "outputs": [
    {
     "name": "stdout",
     "output_type": "stream",
     "text": [
      "[ 1  8  8  8  6 12  9  7  5  4 11  6 12  0  3  0 10  8 10  2 12  3  1  4\n",
      "  2]\n",
      "198.54927149999997\n"
     ]
    }
   ],
   "source": [
    "# from sklearn.cluster import KMeans \n",
    "clusters = 13\n",
    "kmeans = KMeans(n_clusters = clusters) \n",
    "kmeans.fit(subs) \n",
    "print(kmeans.labels_)\n",
    "print(kmeans.inertia_) "
   ]
  },
  {
   "cell_type": "code",
   "execution_count": 197,
   "metadata": {},
   "outputs": [
    {
     "data": {
      "image/png": "[encoded data removed]",
      "text/plain": [
       "<Figure size 432x288 with 1 Axes>"
      ]
     },
     "metadata": {
      "needs_background": "light"
     },
     "output_type": "display_data"
    }
   ],
   "source": [
    "dendrogram = sch.dendrogram(sch.linkage(subs, method  = \"ward\"))\n",
    "plt.title('Dendrogram')\n",
    "plt.xlabel('States')\n",
    "plt.ylabel('Euclidean distances')\n",
    "plt.show()"
   ]
  },
  {
   "cell_type": "code",
   "execution_count": 142,
   "metadata": {},
   "outputs": [
    {
     "name": "stdout",
     "output_type": "stream",
     "text": [
      "[0 0 0 0 0 0 0 0 0 0 0 0 0 0 0 0 0 0 0 0 0 0 0 0 0 0 0 0 0 0 0 0 0 0 0 0 0\n",
      " 0 0 0 0 0 0 0 0 0 0 0 0 0]\n",
      "2833.74558954\n"
     ]
    }
   ],
   "source": [
    "# from sklearn.cluster import KMeans \n",
    "clusters = 1\n",
    "kmeans = KMeans(n_clusters = clusters) \n",
    "kmeans.fit(H) \n",
    "print(kmeans.labels_)\n",
    "print(kmeans.inertia_) \n"
   ]
  },
  {
   "cell_type": "code",
   "execution_count": 155,
   "metadata": {},
   "outputs": [
    {
     "name": "stdout",
     "output_type": "stream",
     "text": [
      "[0 1 0 0 1 1 1 0 0 0 1 1 1 0 1 1 0 0 1 1 1 0 1 0 0 1 1 0 1 1 0 1 0 1 0 0 1\n",
      " 1 1 0 1 0 0 1 1 1 1 0 1 1]\n",
      "1972.8338713267653\n"
     ]
    }
   ],
   "source": [
    "# from sklearn.cluster import KMeans \n",
    "clusters = 2\n",
    "kmeans = KMeans(n_clusters = clusters) \n",
    "kmeans.fit(H) \n",
    "print(kmeans.labels_)\n",
    "print(kmeans.inertia_) \n"
   ]
  },
  {
   "cell_type": "code",
   "execution_count": 144,
   "metadata": {},
   "outputs": [
    {
     "name": "stdout",
     "output_type": "stream",
     "text": [
      "[1 0 1 1 2 0 2 1 1 1 2 0 2 1 0 0 1 1 0 2 2 1 0 1 1 0 0 1 0 2 1 2 1 0 1 1 0\n",
      " 2 2 1 0 1 1 0 0 2 0 1 0 0]\n",
      "1704.1011547388166\n"
     ]
    }
   ],
   "source": [
    "clusters = 3\n",
    "kmeans = KMeans(n_clusters = clusters) \n",
    "kmeans.fit(H) \n",
    "print(kmeans.labels_)\n",
    "print(kmeans.inertia_) \n",
    "#print(kmeanModel.cluster_centers_)"
   ]
  },
  {
   "cell_type": "code",
   "execution_count": 145,
   "metadata": {},
   "outputs": [
    {
     "name": "stdout",
     "output_type": "stream",
     "text": [
      "[3 0 1 3 2 0 2 1 1 1 2 0 2 1 0 0 3 3 0 2 2 1 0 3 1 0 0 1 0 2 1 2 1 0 1 3 2\n",
      " 1 2 1 0 3 1 0 0 2 2 3 0 0]\n",
      "1504.8024638154761\n"
     ]
    }
   ],
   "source": [
    "clusters = 4\n",
    "kmeans = KMeans(n_clusters = clusters) \n",
    "kmeans.fit(H) \n",
    "print(kmeans.labels_)\n",
    "print(kmeans.inertia_) \n",
    "#print(kmeanModel.cluster_centers_)"
   ]
  },
  {
   "cell_type": "code",
   "execution_count": 146,
   "metadata": {},
   "outputs": [
    {
     "name": "stdout",
     "output_type": "stream",
     "text": [
      "[4 1 2 4 3 1 3 2 2 2 3 1 3 2 0 0 4 4 0 3 3 2 0 4 2 1 0 2 0 3 2 3 2 0 2 4 1\n",
      " 2 3 2 0 4 2 1 0 3 1 4 0 1]\n",
      "1370.361863382143\n"
     ]
    }
   ],
   "source": [
    "clusters = 5\n",
    "kmeans = KMeans(n_clusters = clusters) \n",
    "kmeans.fit(X) \n",
    "print(kmeans.labels_)\n",
    "print(kmeans.inertia_)\n",
    "#print(kmeanModel.cluster_centers_)"
   ]
  },
  {
   "cell_type": "code",
   "execution_count": 147,
   "metadata": {},
   "outputs": [
    {
     "name": "stdout",
     "output_type": "stream",
     "text": [
      "[1 5 3 1 2 0 2 3 3 3 2 5 2 3 4 4 1 1 4 2 2 3 4 1 3 5 4 3 4 2 3 2 3 4 3 1 2\n",
      " 3 2 3 4 1 3 0 4 4 2 1 4 5]\n",
      "1310.047665823052\n"
     ]
    }
   ],
   "source": [
    "clusters = 6\n",
    "kmeans = KMeans(n_clusters = clusters) \n",
    "kmeans.fit(H) \n",
    "print(kmeans.labels_)\n",
    "print(kmeans.inertia_)\n",
    "#print(kmeanModel.cluster_centers_)"
   ]
  },
  {
   "cell_type": "code",
   "execution_count": 148,
   "metadata": {},
   "outputs": [
    {
     "name": "stdout",
     "output_type": "stream",
     "text": [
      "[5 3 0 5 2 6 2 4 0 0 2 3 2 4 1 1 5 5 4 2 2 4 1 5 4 3 1 0 1 2 0 2 0 1 4 5 6\n",
      " 4 2 0 1 5 0 6 6 1 6 5 1 3]\n",
      "1198.5944293496032\n"
     ]
    }
   ],
   "source": [
    "clusters = 7\n",
    "kmeans = KMeans(n_clusters = clusters) \n",
    "kmeans.fit(H) \n",
    "print(kmeans.labels_)\n",
    "print(kmeans.inertia_)\n",
    "#print(kmeanModel.cluster_centers_)"
   ]
  },
  {
   "cell_type": "code",
   "execution_count": 149,
   "metadata": {},
   "outputs": [
    {
     "name": "stdout",
     "output_type": "stream",
     "text": [
      "[6 4 7 1 0 5 0 3 3 7 0 4 0 3 2 2 6 6 5 0 0 3 2 6 3 4 2 7 5 0 7 0 3 2 3 1 5\n",
      " 3 0 3 2 1 7 4 5 2 5 1 2 4]\n",
      "1150.736539911111\n"
     ]
    }
   ],
   "source": [
    "clusters = 8\n",
    "kmeans = KMeans(n_clusters = clusters) \n",
    "kmeans.fit(X) \n",
    "print(kmeans.labels_)\n",
    "print(kmeans.inertia_)\n",
    "#print(kmeanModel.cluster_centers_)"
   ]
  },
  {
   "cell_type": "code",
   "execution_count": 150,
   "metadata": {},
   "outputs": [
    {
     "name": "stdout",
     "output_type": "stream",
     "text": [
      "[3 4 8 3 7 5 7 6 6 6 2 4 7 6 2 2 3 3 1 7 7 6 2 3 6 4 2 8 1 7 8 7 6 2 6 3 5\n",
      " 6 7 6 4 3 0 5 1 2 5 3 2 4]\n",
      "1113.2787098166668\n"
     ]
    }
   ],
   "source": [
    "clusters = 9\n",
    "kmeans = KMeans(n_clusters = clusters) \n",
    "kmeans.fit(H) \n",
    "print(kmeans.labels_)\n",
    "print(kmeans.inertia_)\n",
    "#print(kmeanModel.cluster_centers_)"
   ]
  },
  {
   "cell_type": "code",
   "execution_count": 156,
   "metadata": {},
   "outputs": [
    {
     "name": "stdout",
     "output_type": "stream",
     "text": [
      "[0 6 5 7 3 9 4 1 5 1 4 6 3 1 2 2 7 0 8 3 4 1 9 0 1 6 2 5 8 3 5 4 1 2 1 7 5\n",
      " 1 4 1 2 7 1 9 8 3 9 7 2 6]\n",
      "1023.3914436499999\n"
     ]
    }
   ],
   "source": [
    "clusters = 10\n",
    "kmeans = KMeans(n_clusters = clusters) \n",
    "kmeans.fit(H) \n",
    "print(kmeans.labels_)\n",
    "print(kmeans.inertia_)\n",
    "# print(kmeanModel.cluster_centers_)"
   ]
  },
  {
   "cell_type": "code",
   "execution_count": 152,
   "metadata": {},
   "outputs": [
    {
     "name": "stdout",
     "output_type": "stream",
     "text": [
      "[ 7  5  6  7  4  0 10  1  8  8 10  5  4  1  3  3  7  7  2  4 10  1  3  7\n",
      "  1  5  3  6  2 10  6  4  8  3  1  7  9  1 10  8  3  7  8  0  2  4  9  7\n",
      "  3  5]\n",
      "958.8203603988095\n"
     ]
    }
   ],
   "source": [
    "clusters = 11\n",
    "kmeans = KMeans(n_clusters = clusters) \n",
    "kmeans.fit(H) \n",
    "print(kmeans.labels_)\n",
    "print(kmeans.inertia_)"
   ]
  },
  {
   "cell_type": "code",
   "execution_count": 153,
   "metadata": {},
   "outputs": [
    {
     "name": "stdout",
     "output_type": "stream",
     "text": [
      "[10  6  9  4  5  0 11  1  2  2 11  8 11  1  3  8  4 10  7 11 11  1  0 10\n",
      "  1  8  3  9  7 11  9  5  2  3  1  4  9  1 11  2  3  4  2  0  7 11  0  4\n",
      "  3  8]\n",
      "907.5329905166666\n"
     ]
    }
   ],
   "source": [
    "clusters = 12\n",
    "kmeans = KMeans(n_clusters = clusters) \n",
    "kmeans.fit(H) \n",
    "print(kmeans.labels_)\n",
    "print(kmeans.inertia_)"
   ]
  },
  {
   "cell_type": "code",
   "execution_count": 154,
   "metadata": {},
   "outputs": [
    {
     "name": "stdout",
     "output_type": "stream",
     "text": [
      "[ 7  2  1 11  8  8  0  1  1  1 12 10  0  9  4  4  3  7  5  0  0  9  4  7\n",
      "  9 10  4  1  5  0  6  0  1  4  9 11  8  9  0  1  4 11  1 10  5  4  8  3\n",
      "  4 10]\n",
      "855.8784815238096\n"
     ]
    }
   ],
   "source": [
    "clusters = 13\n",
    "kmeans = KMeans(n_clusters = clusters) \n",
    "kmeans.fit(H) \n",
    "print(kmeans.labels_)\n",
    "print(kmeans.inertia_)"
   ]
  },
  {
   "cell_type": "code",
   "execution_count": 158,
   "metadata": {},
   "outputs": [
    {
     "data": {
      "image/png": "[encoded data removed]",
      "text/plain": [
       "<Figure size 432x288 with 1 Axes>"
      ]
     },
     "metadata": {
      "needs_background": "light"
     },
     "output_type": "display_data"
    }
   ],
   "source": [
    "dendrogram = sch.dendrogram(sch.linkage(H, method  = \"ward\"))\n",
    "plt.title('Dendrogram')\n",
    "plt.xlabel('States')\n",
    "plt.ylabel('Euclidean distances')\n",
    "plt.show()"
   ]
  },
  {
   "cell_type": "code",
   "execution_count": 159,
   "metadata": {},
   "outputs": [],
   "source": [
    "H = AgglomerativeClustering(n_clusters = 5, affinity = 'euclidean', linkage ='ward')"
   ]
  }
 ],
 "metadata": {
  "kernelspec": {
   "display_name": "Python 3",
   "language": "python",
   "name": "python3"
  },
  "language_info": {
   "codemirror_mode": {
    "name": "ipython",
    "version": 3
   },
   "file_extension": ".py",
   "mimetype": "text/x-python",
   "name": "python",
   "nbconvert_exporter": "python",
   "pygments_lexer": "ipython3",
   "version": "3.7.3"
  }
 },
 "nbformat": 4,
 "nbformat_minor": 2
}
